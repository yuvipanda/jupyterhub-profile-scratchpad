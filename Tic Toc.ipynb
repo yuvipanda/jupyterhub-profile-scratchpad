{
 "cells": [
  {
   "cell_type": "code",
   "execution_count": 88,
   "metadata": {
    "collapsed": true
   },
   "outputs": [],
   "source": [
    "import matplotlib.pyplot as plt\n",
    "import re\n",
    "tic_regex = r'IOLoop tic (\\d+): (\\d+) callbacks (\\d+) timeouts'\n",
    "toc_regex = r'IOLoop toc (\\d+): (.*) ms'\n",
    "\n",
    "def ioticks(filepath):\n",
    "    with open(filepath) as f:\n",
    "        lines = f.readlines()\n",
    "    iterations = [{'lines': []}]\n",
    "    \n",
    "    for line in lines:\n",
    "        tic_match = re.search(tic_regex, line)\n",
    "        iterations[-1]['lines'].append(line)\n",
    "        if tic_match:\n",
    "            iterations.append({\n",
    "                'callbacks': int(tic_match.groups()[1]),\n",
    "                'timeouts': int(tic_match.groups()[2]),\n",
    "                'lines': []\n",
    "            })\n",
    "        toc_match = re.search(toc_regex, line)\n",
    "        if toc_match:\n",
    "            iterations[-1]['time'] = float(toc_match.groups()[1]) / 1000\n",
    "            \n",
    "    return iterations\n",
    "    "
   ]
  },
  {
   "cell_type": "code",
   "execution_count": 140,
   "metadata": {},
   "outputs": [],
   "source": [
    "import math\n",
    "def plot_file(filepath, title):\n",
    "    iterations = ioticks(filepath)\n",
    "    #large_only = iterations\n",
    "    large_only = [i for i in iterations if i.get('time', 0) ]\n",
    "    plt.plot([i['time'] for i in large_only])\n",
    "    plt.ylabel('time taken (s)')\n",
    "    plt.xlabel('tic count')\n",
    "    plt.title(title)\n",
    "    plt.show()\n"
   ]
  },
  {
   "cell_type": "code",
   "execution_count": 143,
   "metadata": {},
   "outputs": [
    {
     "data": {
      "image/png": "[encoded data removed]",
      "text/plain": [
       "<matplotlib.figure.Figure at 0x7fa5e4354f98>"
      ]
     },
     "metadata": {},
     "output_type": "display_data"
    },
    {
     "data": {
      "image/png": "[encoded data removed]",
      "text/plain": [
       "<matplotlib.figure.Figure at 0x7fa5b9db1cf8>"
      ]
     },
     "metadata": {},
     "output_type": "display_data"
    }
   ],
   "source": [
    "#plot_file('hublogs-2')\n",
    "#plot_file('hublogs-cpython')\n",
    "#plot_file('hublogs-no-poll')\n",
    "plot_file('hublogs/spawner-notify-hub-jitter-client-nojitter', 'Clients with no Jitter')\n",
    "plot_file('hublogs/client-jitter-500ms', 'Clients with upto 500ms Jitter')\n",
    "#plot_file('hublogs-deletion')"
   ]
  },
  {
   "cell_type": "code",
   "execution_count": 132,
   "metadata": {},
   "outputs": [],
   "source": [
    "def large_tics(filepath):\n",
    "    iterations = ioticks(filepath)\n",
    "    large_only = [i for i in iterations if i.get('time', 0) > 10]\n",
    "    return large_only\n",
    "\n",
    "t = large_tics(\"hublogs/spawner-notify-hub-jitter-client-nojitter\")"
   ]
  },
  {
   "cell_type": "code",
   "execution_count": 133,
   "metadata": {},
   "outputs": [
    {
     "data": {
      "text/plain": [
       "6"
      ]
     },
     "execution_count": 133,
     "metadata": {},
     "output_type": "execute_result"
    }
   ],
   "source": [
    "len(t)"
   ]
  },
  {
   "cell_type": "code",
   "execution_count": 130,
   "metadata": {},
   "outputs": [],
   "source": [
    "with open('long-tick', 'w') as w:\n",
    "    for ti in t:\n",
    "        w.write('>>>>>>>>>>>>>>>>>>>>>>>>>>>>>>>>>>>>>>>>>>>>>>\\n')\n",
    "        for l in ti['lines']:\n",
    "            w.write(l)\n",
    "    "
   ]
  },
  {
   "cell_type": "code",
   "execution_count": null,
   "metadata": {
    "collapsed": true
   },
   "outputs": [],
   "source": []
  }
 ],
 "metadata": {
  "kernelspec": {
   "display_name": "Python 3",
   "language": "python",
   "name": "python3"
  },
  "language_info": {
   "codemirror_mode": {
    "name": "ipython",
    "version": 3
   },
   "file_extension": ".py",
   "mimetype": "text/x-python",
   "name": "python",
   "nbconvert_exporter": "python",
   "pygments_lexer": "ipython3",
   "version": "3.5.3"
  }
 },
 "nbformat": 4,
 "nbformat_minor": 2
}
