{
 "cells": [
  {
   "cell_type": "code",
   "execution_count": 148,
   "metadata": {
    "collapsed": true
   },
   "outputs": [],
   "source": [
    "import matplotlib.pyplot as plt\n",
    "import re\n",
    "tic_regex = r'IOLoop tic (\\d+): (\\d+) callbacks (\\d+) timeouts'\n",
    "toc_regex = r'IOLoop toc (\\d+): (.*) ms'\n",
    "callback_regex = r'\\] callback: <(.*), file \"(.*)\", line (\\d+)>'\n",
    "\n",
    "def ioticks(filepath):\n",
    "    with open(filepath) as f:\n",
    "        lines = f.readlines()\n",
    "    iterations = [{'lines': [], 'callbacks': []}]\n",
    "    \n",
    "    for line in lines:\n",
    "        tic_match = re.search(tic_regex, line)\n",
    "        iterations[-1]['lines'].append(line)\n",
    "        if tic_match:\n",
    "            iterations.append({\n",
    "                'callbacks': int(tic_match.groups()[1]),\n",
    "                'timeouts': int(tic_match.groups()[2]),\n",
    "                'lines': [],\n",
    "                'callbacks': []\n",
    "            })\n",
    "        callback_match = re.search(callback_regex, line)\n",
    "        if callback_match:\n",
    "            iterations[-1]['callbacks'].append({\n",
    "                'object': callback_match.groups()[0],\n",
    "                'file': callback_match.groups()[1],\n",
    "                'line': callback_match.groups()[2]\n",
    "            })\n",
    "        toc_match = re.search(toc_regex, line)\n",
    "        if toc_match:\n",
    "            iterations[-1]['time'] = float(toc_match.groups()[1]) / 1000\n",
    "            \n",
    "    return iterations\n",
    "    "
   ]
  },
  {
   "cell_type": "code",
   "execution_count": 183,
   "metadata": {
    "collapsed": true
   },
   "outputs": [],
   "source": [
    "import math\n",
    "def plot_file(filepath, title):\n",
    "    iterations = ioticks(filepath)\n",
    "    #large_only = iterations\n",
    "    large_only = [i for i in iterations if i.get('time', 0) > 2]\n",
    "    plt.hist([i['time'] for i in large_only])\n",
    "    plt.ylabel('time taken (s)')\n",
    "    plt.xlabel('tic count')\n",
    "    plt.title(title)\n",
    "    plt.show()\n"
   ]
  },
  {
   "cell_type": "code",
   "execution_count": 184,
   "metadata": {},
   "outputs": [
    {
     "data": {
      "image/png": "[encoded data removed]",
      "text/plain": [
       "<matplotlib.figure.Figure at 0x7fa5a156a9e8>"
      ]
     },
     "metadata": {},
     "output_type": "display_data"
    }
   ],
   "source": [
    "#plot_file('hublogs-2')\n",
    "#plot_file('hublogs-cpython')\n",
    "#plot_file('hublogs-no-poll')\n",
    "#plot_file('hublogs/spawner-notify-hub-jitter-client-nojitter', 'Clients with no Jitter')\n",
    "plot_file('/home/yuvipanda/code/datahub-acs/hub-acs/test-4k-eastus-nginx/hub-logs-bigger', 'All callbacks + client Jitter')\n",
    "#plot_file('hublogs/client-jitter-500ms', 'Clients with upto 500ms Jitter')\n",
    "#plot_file('hublogs-deletion')"
   ]
  },
  {
   "cell_type": "code",
   "execution_count": 172,
   "metadata": {
    "collapsed": true
   },
   "outputs": [],
   "source": [
    "def large_tics(filepath, secs=1):\n",
    "    iterations = ioticks(filepath)\n",
    "    large_only = [i for i in iterations if i.get('time', 0) > secs]\n",
    "    return large_only\n",
    "\n",
    "lt = large_tics(\"hublogs/sqlite-full-callbacks\")"
   ]
  },
  {
   "cell_type": "code",
   "execution_count": 173,
   "metadata": {
    "collapsed": true
   },
   "outputs": [],
   "source": [
    "def summarize_callbacks(iteration):\n",
    "    summary = {}\n",
    "    for c in iteration['callbacks']:\n",
    "        summary[(c['file'], c['line'])] = summary.get((c['file'], c['line']), 1) +1\n",
    "    return summary"
   ]
  },
  {
   "cell_type": "code",
   "execution_count": 174,
   "metadata": {},
   "outputs": [
    {
     "data": {
      "text/plain": [
       "{('/srv/venv/lib/python3.5/site-packages/jupyterhub/handlers/base.py',\n",
       "  '321'): 1111,\n",
       " ('/srv/venv/lib/python3.5/site-packages/jupyterhub/handlers/base.py',\n",
       "  '338'): 964,\n",
       " ('/srv/venv/lib/python3.5/site-packages/jupyterhub/handlers/login.py',\n",
       "  '79'): 1113,\n",
       " ('/srv/venv/lib/python3.5/site-packages/jupyterhub/proxy.py', '226'): 951,\n",
       " ('/srv/venv/lib/python3.5/site-packages/jupyterhub/user.py', '256'): 2002,\n",
       " ('/srv/venv/lib/python3.5/site-packages/jupyterhub/user.py', '405'): 8,\n",
       " ('/srv/venv/lib/python3.5/site-packages/jupyterhub/utils.py', '118'): 959,\n",
       " ('/srv/venv/lib/python3.5/site-packages/jupyterhub/utils.py', '125'): 971,\n",
       " ('/srv/venv/lib/python3.5/site-packages/jupyterhub/utils.py', '52'): 1298,\n",
       " ('/srv/venv/lib/python3.5/site-packages/kubespawner/proxy.py', '71'): 2596,\n",
       " ('/srv/venv/lib/python3.5/site-packages/kubespawner/proxy.py', '85'): 2572,\n",
       " ('/srv/venv/lib/python3.5/site-packages/kubespawner/spawner.py', '757'): 1312,\n",
       " ('/srv/venv/lib/python3.5/site-packages/kubespawner/spawner.py', '837'): 15,\n",
       " ('/srv/venv/lib/python3.5/site-packages/tornado/http1connection.py',\n",
       "  '153'): 5272,\n",
       " ('/srv/venv/lib/python3.5/site-packages/tornado/http1connection.py',\n",
       "  '714'): 58676,\n",
       " ('/srv/venv/lib/python3.5/site-packages/tornado/web.py', '1472'): 1125}"
      ]
     },
     "execution_count": 174,
     "metadata": {},
     "output_type": "execute_result"
    }
   ],
   "source": [
    "summaries = {}\n",
    "for t in lt:\n",
    "    s = summarize_callbacks(t)\n",
    "    for k, v in s.items():\n",
    "        summaries[k] = summaries.get(k, 0) + v\n",
    "summaries"
   ]
  },
  {
   "cell_type": "code",
   "execution_count": 175,
   "metadata": {},
   "outputs": [
    {
     "data": {
      "text/plain": [
       "156"
      ]
     },
     "execution_count": 175,
     "metadata": {},
     "output_type": "execute_result"
    }
   ],
   "source": [
    "len(lt)"
   ]
  },
  {
   "cell_type": "code",
   "execution_count": null,
   "metadata": {
    "collapsed": true
   },
   "outputs": [],
   "source": []
  }
 ],
 "metadata": {
  "kernelspec": {
   "display_name": "Python 3",
   "language": "python",
   "name": "python3"
  },
  "language_info": {
   "codemirror_mode": {
    "name": "ipython",
    "version": 3
   },
   "file_extension": ".py",
   "mimetype": "text/x-python",
   "name": "python",
   "nbconvert_exporter": "python",
   "pygments_lexer": "ipython3",
   "version": "3.5.3"
  }
 },
 "nbformat": 4,
 "nbformat_minor": 2
}
